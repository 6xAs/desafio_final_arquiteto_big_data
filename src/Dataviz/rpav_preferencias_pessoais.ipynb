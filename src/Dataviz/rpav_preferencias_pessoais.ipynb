{
 "cells": [
  {
   "cell_type": "markdown",
   "metadata": {},
   "source": [
    "## **RPA** Preferências Pessoais"
   ]
  },
  {
   "cell_type": "markdown",
   "metadata": {},
   "source": [
    "#### Enciado da Questao\n",
    "Exercitar os seguintes conceitos trabalhados no Módulo:\n",
    "1. Realizar coleta de dados em arquivos.\n",
    "2. Manipulação e visualização de dados.\n",
    "3. Criar modelo entidade e relacionamento para armazenamento de dados.\n",
    "4. Realizar carga de dados no banco de dados MySQL.\n",
    "5. Tratamento de dados.\n",
    "6. Realizar consultas na linguagem SQL.\n",
    "7. Conhecimento teórico ministrado nas videoaulas"
   ]
  }
 ],
 "metadata": {
  "language_info": {
   "name": "python"
  }
 },
 "nbformat": 4,
 "nbformat_minor": 2
}
